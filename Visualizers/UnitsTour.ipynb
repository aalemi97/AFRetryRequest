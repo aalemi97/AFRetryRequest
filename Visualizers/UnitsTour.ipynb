{
  "nbformat": 4,
  "nbformat_minor": 0,
  "metadata": {
    "colab": {
      "provenance": [],
      "collapsed_sections": [
        "ivTLEvHqDtBS"
      ],
      "authorship_tag": "ABX9TyO8qLaatGiMXEoJSQJUUux2",
      "include_colab_link": true
    },
    "kernelspec": {
      "name": "python3",
      "display_name": "Python 3"
    },
    "language_info": {
      "name": "python"
    }
  },
  "cells": [
    {
      "cell_type": "markdown",
      "metadata": {
        "id": "view-in-github",
        "colab_type": "text"
      },
      "source": [
        "<a href=\"https://colab.research.google.com/github/aalemi97/AFRetryRequest/blob/master/Visualizers/UnitsTour.ipynb\" target=\"_parent\"><img src=\"https://colab.research.google.com/assets/colab-badge.svg\" alt=\"Open In Colab\"/></a>"
      ]
    },
    {
      "cell_type": "markdown",
      "source": [
        "# Colab Configuration"
      ],
      "metadata": {
        "id": "ivTLEvHqDtBS"
      }
    },
    {
      "cell_type": "code",
      "execution_count": 1,
      "metadata": {
        "colab": {
          "base_uri": "https://localhost:8080/"
        },
        "id": "x2kAAhGpDe1M",
        "outputId": "dce0652d-c97c-416e-db87-ddeed7de5190"
      },
      "outputs": [
        {
          "output_type": "stream",
          "name": "stdout",
          "text": [
            "Mounted at /content/drive\n"
          ]
        }
      ],
      "source": [
        "from google.colab import drive\n",
        "drive.mount('/content/drive')"
      ]
    },
    {
      "cell_type": "code",
      "source": [
        "from psutil import virtual_memory\n",
        "ram_gb = virtual_memory().total / 1e9\n",
        "print('Your runtime has {:.1f} gigabytes of available RAM\\n'.format(ram_gb))\n",
        "\n",
        "if ram_gb < 20:\n",
        "  print('Not using a high-RAM runtime')\n",
        "else:\n",
        "  print('You are using a high-RAM runtime!')"
      ],
      "metadata": {
        "colab": {
          "base_uri": "https://localhost:8080/"
        },
        "id": "SCoFsLQiD1Fa",
        "outputId": "145133e5-3da3-48bc-ef0f-280a31434d99"
      },
      "execution_count": null,
      "outputs": [
        {
          "output_type": "stream",
          "name": "stdout",
          "text": [
            "Your runtime has 13.6 gigabytes of available RAM\n",
            "\n",
            "Not using a high-RAM runtime\n"
          ]
        }
      ]
    },
    {
      "cell_type": "markdown",
      "source": [
        "# Units Tour"
      ],
      "metadata": {
        "id": "uKTyUreoJ7VQ"
      }
    },
    {
      "cell_type": "code",
      "source": [
        "import numpy as np\n",
        "import pandas as pd\n",
        "import folium\n",
        "from folium.plugins import HeatMap\n",
        "from folium.plugins import HeatMapWithTime\n",
        "\n",
        "class TourVisualizer(object):\n",
        "  agents = None\n",
        "  zones = None\n",
        "\n",
        "  def __init__(self, agentsSummaryPath, zonesInfoPath):\n",
        "    self.agents = pd.read_pickle(agentsSummaryPath)\n",
        "    self.zones = pd.read_csv(zonesInfoPath)\n",
        "    super().__init__()\n",
        "\n",
        "  def getUnitIDs(self):\n",
        "    return self.agents[\"Unit ID\"].unique()\n",
        "\n",
        "  def getDates(self):\n",
        "    return self.agents[\"Date\"].unique()\n",
        "\n",
        "  def showHeatMap(self, unitID, date):\n",
        "    row = self.agents.loc[(self.agents[\"Unit ID\"] == unitID) &\n",
        "                          (self.agents[\"Date\"] == date)]\n",
        "    if not row.empty:\n",
        "      spots = list(map(lambda x: int(x),\n",
        "                       row[\"Observed Zones ID\"].values[0][1:-1].split(\", \")))\n",
        "      uniqueSpots = set(spots)\n",
        "      lat = []\n",
        "      lon = []\n",
        "      observations = []\n",
        "      for spot in uniqueSpots:\n",
        "        observations.append(spots.count(spot))\n",
        "        point = self.zones.loc[self.zones[\"Zone Number\"] == spot,\n",
        "                            \"Center Point\"].values[0]\n",
        "        point = point.split(\" \")\n",
        "        lon.append(float(point[1][1:]))\n",
        "        lat.append(float(point[2][:-1]))\n",
        "      \n",
        "      df = pd.DataFrame(columns=[\"Lat\", \"Lon\", \"Observations\"])\n",
        "      df[\"Lat\"] = lat\n",
        "      df[\"Lon\"] = lon\n",
        "      df[\"Observations\"] = observations\n",
        "    else:\n",
        "      return None, None\n",
        "\n",
        "    hm = folium.Map(location=[51.0447, -114.0719], zoom_start=11)\n",
        "\n",
        "    HeatMap(df,\n",
        "            min_opacity=0.4,\n",
        "            blur = 18).add_to(folium.FeatureGroup(name='Heat Map').add_to(hm))\n",
        "\n",
        "    folium.LayerControl().add_to(hm)\n",
        "    return df, hm\n",
        "\n",
        "  def showTimeHeatMap(self, unitID):\n",
        "    unit = self.agents.loc[\n",
        "        (self.agents[\"Unit ID\"] == unitID)].sort_values(by=[\"Date\"])\n",
        "\n",
        "    data = []\n",
        "\n",
        "    if not unit.empty:\n",
        "      dates = unit[\"Date\"].unique().tolist()\n",
        "      for _, row in unit.iterrows():\n",
        "        spots = row[\"Observed Zones ID\"]\n",
        "        uniqueSpots = set(spots)\n",
        "        temp = []\n",
        "      \n",
        "        for spot in uniqueSpots:\n",
        "          observation = spots.count(spot)\n",
        "          point = self.zones.loc[self.zones[\"Zone Number\"] == spot,\n",
        "                              \"Center Point\"].values[0]\n",
        "          point = point.split(\" \")\n",
        "          lon = float(point[1][1:])\n",
        "          lat = float(point[2][:-1])\n",
        "          temp.append([lat, lon, observation])\n",
        "        \n",
        "        data.append(temp)\n",
        "      \n",
        "      hmt = folium.Map(location=[51.0447, -114.0719],\n",
        "                       zoom_start=11,\n",
        "                       control_scale=True)\n",
        "      \n",
        "      HeatMapWithTime(data,\n",
        "                      index=dates,\n",
        "                      auto_play=True,\n",
        "                      use_local_extrema=True).add_to(hmt)\n",
        "\n",
        "      legend_html = \\\n",
        "      '''\n",
        "        <div style=\"position:fixed;\n",
        "                    bottom: 50px; right: 50px;\n",
        "                    z-index:1000;\n",
        "                    padding: 10px;\n",
        "                    background-color: white;\n",
        "                    opacity: 0.7;\n",
        "                    border-radius: 5px;\n",
        "                    font-size: 12px;\">\n",
        "        <strong>Legend</strong><br>\n",
        "        <div style=\"background-color: blue; width: 20px; height: 10px; display: inline-block;\"></div>\n",
        "        Least Observation<br>\n",
        "        <div style=\"background-color: yellow; width: 20px; height: 10px; display: inline-block;\"></div>\n",
        "        Medium Observation<br>\n",
        "        <div style=\"background-color: red; width: 20px; height: 10px; display: inline-block;\"></div>\n",
        "        High Observation\n",
        "        </div>\n",
        "\n",
        "      '''\n",
        "      hmt.get_root().html.add_child(folium.Element(legend_html))\n",
        "\n",
        "      return data, hmt\n",
        "    else:\n",
        "      return None, None\n",
        "\n",
        "  def showAllTimeHeatMap(self):\n",
        "\n",
        "    m = folium.Map(location=[51.0447, -114.0719],\n",
        "                   zoom_start=11,\n",
        "                   control_scale=True)\n",
        "\n",
        "    ids = self.getUnitIDs()\n",
        "    for unitID in ids:\n",
        "      unit = self.agents.loc[\n",
        "          (self.agents[\"Unit ID\"] == unitID)].sort_values(by=[\"Date\"])\n",
        "\n",
        "      data = []\n",
        "\n",
        "      if not unit.empty:\n",
        "        dates = unit[\"Date\"].unique().tolist()\n",
        "        dates = list(map(lambda x: f\"{unitID} {x}\", dates))\n",
        "        for _, row in unit.iterrows():\n",
        "          spots = row[\"Observed Zones ID\"]\n",
        "          uniqueSpots = set(spots)\n",
        "          temp = []\n",
        "        \n",
        "          for spot in uniqueSpots:\n",
        "            observation = spots.count(spot)\n",
        "            weight = observation/len(spots)\n",
        "            \n",
        "            point = self.zones.loc[self.zones[\"Zone Number\"] == spot,\n",
        "                                \"Center Point\"].values\n",
        "            if len(point) >= 1:\n",
        "              point = point [0]\n",
        "              point = point.split(\" \")\n",
        "              lon = float(point[1][1:])\n",
        "              lat = float(point[2][:-1])\n",
        "              temp.append([lat, lon, weight])\n",
        "          \n",
        "          data.append(temp)\n",
        "\n",
        "        hmt = HeatMapWithTime(data,\n",
        "                              index=dates,\n",
        "                              name=f\"{unitID}\",\n",
        "                              auto_play=False,\n",
        "                              use_local_extrema=True,\n",
        "                              position=\"bottomleft\",\n",
        "                              overlay=True,\n",
        "                              control=True,\n",
        "                              show=False)\n",
        "        hmt.add_to(m)\n",
        "    legend_html = \\\n",
        "    '''\n",
        "      <div style=\"position:fixed;\n",
        "                  bottom: 50px; right: 50px;\n",
        "                  z-index:1000;\n",
        "                  padding: 10px;\n",
        "                  background-color: white;\n",
        "                  opacity: 0.7;\n",
        "                  border-radius: 5px;\n",
        "                  font-size: 12px;\">\n",
        "      <strong>Legend</strong><br>\n",
        "      <div style=\"background-color: blue; width: 20px; height: 10px; display: inline-block;\"></div>\n",
        "      Least Observation<br>\n",
        "      <div style=\"background-color: yellow; width: 20px; height: 10px; display: inline-block;\"></div>\n",
        "      Medium Observation<br>\n",
        "      <div style=\"background-color: red; width: 20px; height: 10px; display: inline-block;\"></div>\n",
        "      High Observation\n",
        "      </div>\n",
        "\n",
        "    '''\n",
        "    m.get_root().html.add_child(folium.Element(legend_html))\n",
        "    folium.LayerControl().add_to(m)\n",
        "    return m"
      ],
      "metadata": {
        "id": "PD9UFM5xJ9FQ"
      },
      "execution_count": 6,
      "outputs": []
    },
    {
      "cell_type": "code",
      "source": [
        "visualizer = TourVisualizer(\n",
        "    agentsSummaryPath=\"/content/drive/MyDrive/UCalgary/Thesis/CPA Data/Visualizations/Units/UnitsDF.pkl\",\n",
        "    zonesInfoPath=\"/content/drive/MyDrive/UCalgary/Thesis/CPA Data/Zones/FinalZonesDF.csv\")"
      ],
      "metadata": {
        "id": "l9z7qoH8KqIm"
      },
      "execution_count": 7,
      "outputs": []
    },
    {
      "cell_type": "code",
      "source": [
        "m = visualizer.showAllTimeHeatMap()"
      ],
      "metadata": {
        "id": "9UEsZjqFK9Xq"
      },
      "execution_count": 8,
      "outputs": []
    },
    {
      "cell_type": "code",
      "source": [
        "m.save(\"/content/drive/MyDrive/UCalgary/Thesis/CPA Data/Visualizations/Units/AllTimeHeayMap.html\")"
      ],
      "metadata": {
        "id": "f93GoTH6LCN0"
      },
      "execution_count": 10,
      "outputs": []
    },
    {
      "cell_type": "code",
      "source": [],
      "metadata": {
        "id": "iNkqH7Y-LpbG"
      },
      "execution_count": null,
      "outputs": []
    }
  ]
}