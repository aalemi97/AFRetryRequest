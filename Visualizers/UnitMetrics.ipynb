{
  "nbformat": 4,
  "nbformat_minor": 0,
  "metadata": {
    "colab": {
      "provenance": [],
      "collapsed_sections": [
        "ivTLEvHqDtBS"
      ],
      "authorship_tag": "ABX9TyOhX7Z/FNxzCmHMYNGv0ZTE",
      "include_colab_link": true
    },
    "kernelspec": {
      "name": "python3",
      "display_name": "Python 3"
    },
    "language_info": {
      "name": "python"
    }
  },
  "cells": [
    {
      "cell_type": "markdown",
      "metadata": {
        "id": "view-in-github",
        "colab_type": "text"
      },
      "source": [
        "<a href=\"https://colab.research.google.com/github/aalemi97/AFRetryRequest/blob/master/Visualizers/UnitMetrics.ipynb\" target=\"_parent\"><img src=\"https://colab.research.google.com/assets/colab-badge.svg\" alt=\"Open In Colab\"/></a>"
      ]
    },
    {
      "cell_type": "markdown",
      "source": [
        "# Colab Configuration"
      ],
      "metadata": {
        "id": "ivTLEvHqDtBS"
      }
    },
    {
      "cell_type": "code",
      "execution_count": 1,
      "metadata": {
        "colab": {
          "base_uri": "https://localhost:8080/"
        },
        "id": "x2kAAhGpDe1M",
        "outputId": "3497b796-c8d5-40d9-9f78-aac142cf8fcd"
      },
      "outputs": [
        {
          "output_type": "stream",
          "name": "stdout",
          "text": [
            "Mounted at /content/drive\n"
          ]
        }
      ],
      "source": [
        "from google.colab import drive\n",
        "drive.mount('/content/drive')"
      ]
    },
    {
      "cell_type": "code",
      "source": [
        "from psutil import virtual_memory\n",
        "ram_gb = virtual_memory().total / 1e9\n",
        "print('Your runtime has {:.1f} gigabytes of available RAM\\n'.format(ram_gb))\n",
        "\n",
        "if ram_gb < 20:\n",
        "  print('Not using a high-RAM runtime')\n",
        "else:\n",
        "  print('You are using a high-RAM runtime!')"
      ],
      "metadata": {
        "colab": {
          "base_uri": "https://localhost:8080/"
        },
        "id": "SCoFsLQiD1Fa",
        "outputId": "4bbeaad3-a51a-4f80-f909-1ebeacfc4bae"
      },
      "execution_count": 2,
      "outputs": [
        {
          "output_type": "stream",
          "name": "stdout",
          "text": [
            "Your runtime has 13.6 gigabytes of available RAM\n",
            "\n",
            "Not using a high-RAM runtime\n"
          ]
        }
      ]
    },
    {
      "cell_type": "markdown",
      "source": [
        "# MetricExtractor"
      ],
      "metadata": {
        "id": "RsT90PWU1nVV"
      }
    },
    {
      "cell_type": "code",
      "source": [
        "import numpy as np\n",
        "import pandas as pd\n",
        "\n",
        "class MetricExtractor(object):\n",
        "\n",
        "  zonesDF = None\n",
        "  zones = []\n",
        "  observationsDF = None\n",
        "\n",
        "  def __init__(self,\n",
        "               zonesDFPath,\n",
        "               observationsDFPath):\n",
        "    self.__buildZonesDF__(zonesDFPath=zonesDFPath)\n",
        "    self.__buildObservationsDF__(observationsDFPath=observationsDFPath)\n",
        "    return\n",
        "\n",
        "  def extractData(self):\n",
        "    df = self.observationsDF.groupby([\"Unit ID\", \"Date\"]).agg(list)\n",
        "    df = df.rename(columns={\"Zone_Number\": \"Observed Zones ID\"})\n",
        "\n",
        "    df[\"Daily Tour Duration (Hour)\"] = \\\n",
        "    list(map(lambda x: (max(x) - min(x)).seconds/3600, df[\"timezone\"]))\n",
        "\n",
        "    df[\"Number of Observations\"] = \\\n",
        "    list(map(lambda x: len(set(x)), df[\"Licence Plate\"]))\n",
        "\n",
        "    df[\"Number of Violations\"] = \\\n",
        "    list(map(lambda x: sum(x), df[\"isViolation\"]))\n",
        "\n",
        "    df[\"Number of Observed Zones\"] = \\\n",
        "    list(map(lambda x: len(set(x)), df[\"Observed Zones ID\"]))\n",
        "\n",
        "    df = df.drop(columns=[\"timezone\", \"Licence Plate\", \"isViolation\"])\n",
        "\n",
        "    df = df.loc[:, [\"Daily Tour Duration (Hour)\",\n",
        "                    \"Number of Observations\",\n",
        "                    \"Number of Violations\",\n",
        "                    \"Number of Observed Zones\",\n",
        "                    \"Observed Zones ID\"]]\n",
        "    df = df.reset_index()\n",
        "    return df\n",
        "\n",
        "  def __buildObservationsDF__(self, observationsDFPath):\n",
        "    dataFrame = pd.read_pickle(observationsDFPath)\n",
        "    ids = dataFrame[\"Unit ID\"].tolist()\n",
        "    ids = list(filter(self.__isAgent__, ids))\n",
        "    dataFrame = dataFrame[dataFrame[\"Unit ID\"].isin(ids)]\n",
        "    dataFrame[\"Zone_Number\"] = dataFrame[\"Zone_Number\"].map(self.__convertToInt__)\n",
        "    dataFrame = dataFrame[dataFrame[\"Zone_Number\"].isin(self.zones)]\n",
        "    dataFrame[\"timezone\"] = pd.to_datetime(dataFrame[\"timezone\"])\n",
        "    dataFrame[\"Date\"] = dataFrame[\"timezone\"].dt.date\n",
        "    self.observationsDF = dataFrame.drop(columns=[\"Observing Officer ID\",\n",
        "                                                  \"longitude\",\n",
        "                                                  \"latitude\",\n",
        "                                                  \"address\"])\n",
        "    return\n",
        "    \n",
        "  def __buildZonesDF__(self,\n",
        "                      zonesDFPath):\n",
        "    self.zonesDF = pd.read_csv(zonesDFPath)\n",
        "    self.zones = self.zonesDF[\"Zone Number\"].tolist()\n",
        "    return\n",
        "\n",
        "  def __isAgent__(self, id):\n",
        "    if type(id) != str:\n",
        "      return False\n",
        "    return id.startswith(\"Unit\")\n",
        "\n",
        "  def __convertToInt__(self,num):\n",
        "    try:\n",
        "      result = int(num)\n",
        "      return result\n",
        "    except:\n",
        "      return -100"
      ],
      "metadata": {
        "id": "B-T2QDTy1rqY"
      },
      "execution_count": 3,
      "outputs": []
    },
    {
      "cell_type": "code",
      "source": [
        "zonesDFPath = \"/content/drive/MyDrive/UCalgary/Thesis/CPA Data/Zones/FinalZonesDF.csv\"\n",
        "observationsDFPath = \"/content/drive/MyDrive/UCalgary/Thesis/CPA Data/Observations/Universal/RawObservationsDF.pkl\""
      ],
      "metadata": {
        "id": "YD9-g3Bp3KoT"
      },
      "execution_count": 4,
      "outputs": []
    },
    {
      "cell_type": "code",
      "source": [
        "extractor = MetricExtractor(zonesDFPath=zonesDFPath,\n",
        "                            observationsDFPath=observationsDFPath)"
      ],
      "metadata": {
        "id": "yxMNGg9r3TyF"
      },
      "execution_count": 5,
      "outputs": []
    },
    {
      "cell_type": "code",
      "source": [
        "dataFrame = extractor.extractData()"
      ],
      "metadata": {
        "id": "gGwRcqth7iZI"
      },
      "execution_count": 6,
      "outputs": []
    },
    {
      "cell_type": "code",
      "source": [
        "dataFrame.to_pickle(\"/content/drive/MyDrive/UCalgary/Thesis/CPA Data/Visualizations/Units/UnitsDF.pkl\")"
      ],
      "metadata": {
        "id": "2hL7I3bbBLxv"
      },
      "execution_count": 7,
      "outputs": []
    },
    {
      "cell_type": "code",
      "source": [
        "summaryDF = dataFrame.groupby([\"Unit ID\"]).mean()"
      ],
      "metadata": {
        "colab": {
          "base_uri": "https://localhost:8080/"
        },
        "id": "crBSghLbFykt",
        "outputId": "8a3a38b8-af3a-4c20-840d-fd34fb79d200"
      },
      "execution_count": 8,
      "outputs": [
        {
          "output_type": "stream",
          "name": "stderr",
          "text": [
            "<ipython-input-8-e6351a469cd0>:1: FutureWarning: The default value of numeric_only in DataFrameGroupBy.mean is deprecated. In a future version, numeric_only will default to False. Either specify numeric_only or select only columns which should be valid for the function.\n",
            "  summaryDF = dataFrame.groupby([\"Unit ID\"]).mean()\n"
          ]
        }
      ]
    },
    {
      "cell_type": "code",
      "source": [
        "summaryDF[\"Violations to Observations Ratio (%)\"] = summaryDF[\"Number of Violations\"] / summaryDF[\"Number of Observations\"] * 100\n",
        "summaryDF[\"Observation to Duration Ratio\"] = summaryDF[\"Number of Observations\"] / summaryDF[\"Daily Tour Duration (Hour)\"]"
      ],
      "metadata": {
        "id": "LUT5i7DXGGoN"
      },
      "execution_count": 9,
      "outputs": []
    },
    {
      "cell_type": "code",
      "source": [
        "summaryDF.round(2)"
      ],
      "metadata": {
        "colab": {
          "base_uri": "https://localhost:8080/",
          "height": 621
        },
        "id": "AnLTUcSZOnil",
        "outputId": "8c069c8c-6107-41aa-a8a6-f8633b46066a"
      },
      "execution_count": 10,
      "outputs": [
        {
          "output_type": "execute_result",
          "data": {
            "text/plain": [
              "                Daily Tour Duration (Hour)  Number of Observations  \\\n",
              "Unit ID                                                              \n",
              "Unit 1 - 6348                         6.14                  568.71   \n",
              "Unit 10 - 6351                        5.90                  691.87   \n",
              "Unit 11 - 6352                        6.09                  672.46   \n",
              "Unit 2 - 6373                         6.14                  383.01   \n",
              "Unit 3 - 6346                         5.24                  419.62   \n",
              "Unit 4 - 6350                         5.17                  522.84   \n",
              "Unit 5 - 6347                         5.41                  508.38   \n",
              "Unit 6 - 6358                         5.30                  730.20   \n",
              "Unit 7 - 6360                         5.11                  569.20   \n",
              "Unit 8 - 6349                         7.07                  580.86   \n",
              "\n",
              "                Number of Violations  Number of Observed Zones  \\\n",
              "Unit ID                                                          \n",
              "Unit 1 - 6348                  41.55                     93.34   \n",
              "Unit 10 - 6351                 59.54                    115.80   \n",
              "Unit 11 - 6352                 49.25                    119.93   \n",
              "Unit 2 - 6373                  24.31                     67.44   \n",
              "Unit 3 - 6346                  37.78                     71.04   \n",
              "Unit 4 - 6350                  39.87                     88.19   \n",
              "Unit 5 - 6347                  44.16                     91.84   \n",
              "Unit 6 - 6358                  57.34                    116.53   \n",
              "Unit 7 - 6360                  36.08                     90.51   \n",
              "Unit 8 - 6349                  45.24                     95.71   \n",
              "\n",
              "                Violations to Observations Ratio (%)  \\\n",
              "Unit ID                                                \n",
              "Unit 1 - 6348                                   7.31   \n",
              "Unit 10 - 6351                                  8.61   \n",
              "Unit 11 - 6352                                  7.32   \n",
              "Unit 2 - 6373                                   6.35   \n",
              "Unit 3 - 6346                                   9.00   \n",
              "Unit 4 - 6350                                   7.63   \n",
              "Unit 5 - 6347                                   8.69   \n",
              "Unit 6 - 6358                                   7.85   \n",
              "Unit 7 - 6360                                   6.34   \n",
              "Unit 8 - 6349                                   7.79   \n",
              "\n",
              "                Observation to Duration Ratio  \n",
              "Unit ID                                        \n",
              "Unit 1 - 6348                           92.57  \n",
              "Unit 10 - 6351                         117.23  \n",
              "Unit 11 - 6352                         110.50  \n",
              "Unit 2 - 6373                           62.42  \n",
              "Unit 3 - 6346                           80.13  \n",
              "Unit 4 - 6350                          101.12  \n",
              "Unit 5 - 6347                           93.93  \n",
              "Unit 6 - 6358                          137.90  \n",
              "Unit 7 - 6360                          111.28  \n",
              "Unit 8 - 6349                           82.17  "
            ],
            "text/html": [
              "\n",
              "  <div id=\"df-55dfc2d2-1768-4c73-a6e8-fa4d062ecf46\">\n",
              "    <div class=\"colab-df-container\">\n",
              "      <div>\n",
              "<style scoped>\n",
              "    .dataframe tbody tr th:only-of-type {\n",
              "        vertical-align: middle;\n",
              "    }\n",
              "\n",
              "    .dataframe tbody tr th {\n",
              "        vertical-align: top;\n",
              "    }\n",
              "\n",
              "    .dataframe thead th {\n",
              "        text-align: right;\n",
              "    }\n",
              "</style>\n",
              "<table border=\"1\" class=\"dataframe\">\n",
              "  <thead>\n",
              "    <tr style=\"text-align: right;\">\n",
              "      <th></th>\n",
              "      <th>Daily Tour Duration (Hour)</th>\n",
              "      <th>Number of Observations</th>\n",
              "      <th>Number of Violations</th>\n",
              "      <th>Number of Observed Zones</th>\n",
              "      <th>Violations to Observations Ratio (%)</th>\n",
              "      <th>Observation to Duration Ratio</th>\n",
              "    </tr>\n",
              "    <tr>\n",
              "      <th>Unit ID</th>\n",
              "      <th></th>\n",
              "      <th></th>\n",
              "      <th></th>\n",
              "      <th></th>\n",
              "      <th></th>\n",
              "      <th></th>\n",
              "    </tr>\n",
              "  </thead>\n",
              "  <tbody>\n",
              "    <tr>\n",
              "      <th>Unit 1 - 6348</th>\n",
              "      <td>6.14</td>\n",
              "      <td>568.71</td>\n",
              "      <td>41.55</td>\n",
              "      <td>93.34</td>\n",
              "      <td>7.31</td>\n",
              "      <td>92.57</td>\n",
              "    </tr>\n",
              "    <tr>\n",
              "      <th>Unit 10 - 6351</th>\n",
              "      <td>5.90</td>\n",
              "      <td>691.87</td>\n",
              "      <td>59.54</td>\n",
              "      <td>115.80</td>\n",
              "      <td>8.61</td>\n",
              "      <td>117.23</td>\n",
              "    </tr>\n",
              "    <tr>\n",
              "      <th>Unit 11 - 6352</th>\n",
              "      <td>6.09</td>\n",
              "      <td>672.46</td>\n",
              "      <td>49.25</td>\n",
              "      <td>119.93</td>\n",
              "      <td>7.32</td>\n",
              "      <td>110.50</td>\n",
              "    </tr>\n",
              "    <tr>\n",
              "      <th>Unit 2 - 6373</th>\n",
              "      <td>6.14</td>\n",
              "      <td>383.01</td>\n",
              "      <td>24.31</td>\n",
              "      <td>67.44</td>\n",
              "      <td>6.35</td>\n",
              "      <td>62.42</td>\n",
              "    </tr>\n",
              "    <tr>\n",
              "      <th>Unit 3 - 6346</th>\n",
              "      <td>5.24</td>\n",
              "      <td>419.62</td>\n",
              "      <td>37.78</td>\n",
              "      <td>71.04</td>\n",
              "      <td>9.00</td>\n",
              "      <td>80.13</td>\n",
              "    </tr>\n",
              "    <tr>\n",
              "      <th>Unit 4 - 6350</th>\n",
              "      <td>5.17</td>\n",
              "      <td>522.84</td>\n",
              "      <td>39.87</td>\n",
              "      <td>88.19</td>\n",
              "      <td>7.63</td>\n",
              "      <td>101.12</td>\n",
              "    </tr>\n",
              "    <tr>\n",
              "      <th>Unit 5 - 6347</th>\n",
              "      <td>5.41</td>\n",
              "      <td>508.38</td>\n",
              "      <td>44.16</td>\n",
              "      <td>91.84</td>\n",
              "      <td>8.69</td>\n",
              "      <td>93.93</td>\n",
              "    </tr>\n",
              "    <tr>\n",
              "      <th>Unit 6 - 6358</th>\n",
              "      <td>5.30</td>\n",
              "      <td>730.20</td>\n",
              "      <td>57.34</td>\n",
              "      <td>116.53</td>\n",
              "      <td>7.85</td>\n",
              "      <td>137.90</td>\n",
              "    </tr>\n",
              "    <tr>\n",
              "      <th>Unit 7 - 6360</th>\n",
              "      <td>5.11</td>\n",
              "      <td>569.20</td>\n",
              "      <td>36.08</td>\n",
              "      <td>90.51</td>\n",
              "      <td>6.34</td>\n",
              "      <td>111.28</td>\n",
              "    </tr>\n",
              "    <tr>\n",
              "      <th>Unit 8 - 6349</th>\n",
              "      <td>7.07</td>\n",
              "      <td>580.86</td>\n",
              "      <td>45.24</td>\n",
              "      <td>95.71</td>\n",
              "      <td>7.79</td>\n",
              "      <td>82.17</td>\n",
              "    </tr>\n",
              "  </tbody>\n",
              "</table>\n",
              "</div>\n",
              "      <button class=\"colab-df-convert\" onclick=\"convertToInteractive('df-55dfc2d2-1768-4c73-a6e8-fa4d062ecf46')\"\n",
              "              title=\"Convert this dataframe to an interactive table.\"\n",
              "              style=\"display:none;\">\n",
              "        \n",
              "  <svg xmlns=\"http://www.w3.org/2000/svg\" height=\"24px\"viewBox=\"0 0 24 24\"\n",
              "       width=\"24px\">\n",
              "    <path d=\"M0 0h24v24H0V0z\" fill=\"none\"/>\n",
              "    <path d=\"M18.56 5.44l.94 2.06.94-2.06 2.06-.94-2.06-.94-.94-2.06-.94 2.06-2.06.94zm-11 1L8.5 8.5l.94-2.06 2.06-.94-2.06-.94L8.5 2.5l-.94 2.06-2.06.94zm10 10l.94 2.06.94-2.06 2.06-.94-2.06-.94-.94-2.06-.94 2.06-2.06.94z\"/><path d=\"M17.41 7.96l-1.37-1.37c-.4-.4-.92-.59-1.43-.59-.52 0-1.04.2-1.43.59L10.3 9.45l-7.72 7.72c-.78.78-.78 2.05 0 2.83L4 21.41c.39.39.9.59 1.41.59.51 0 1.02-.2 1.41-.59l7.78-7.78 2.81-2.81c.8-.78.8-2.07 0-2.86zM5.41 20L4 18.59l7.72-7.72 1.47 1.35L5.41 20z\"/>\n",
              "  </svg>\n",
              "      </button>\n",
              "      \n",
              "  <style>\n",
              "    .colab-df-container {\n",
              "      display:flex;\n",
              "      flex-wrap:wrap;\n",
              "      gap: 12px;\n",
              "    }\n",
              "\n",
              "    .colab-df-convert {\n",
              "      background-color: #E8F0FE;\n",
              "      border: none;\n",
              "      border-radius: 50%;\n",
              "      cursor: pointer;\n",
              "      display: none;\n",
              "      fill: #1967D2;\n",
              "      height: 32px;\n",
              "      padding: 0 0 0 0;\n",
              "      width: 32px;\n",
              "    }\n",
              "\n",
              "    .colab-df-convert:hover {\n",
              "      background-color: #E2EBFA;\n",
              "      box-shadow: 0px 1px 2px rgba(60, 64, 67, 0.3), 0px 1px 3px 1px rgba(60, 64, 67, 0.15);\n",
              "      fill: #174EA6;\n",
              "    }\n",
              "\n",
              "    [theme=dark] .colab-df-convert {\n",
              "      background-color: #3B4455;\n",
              "      fill: #D2E3FC;\n",
              "    }\n",
              "\n",
              "    [theme=dark] .colab-df-convert:hover {\n",
              "      background-color: #434B5C;\n",
              "      box-shadow: 0px 1px 3px 1px rgba(0, 0, 0, 0.15);\n",
              "      filter: drop-shadow(0px 1px 2px rgba(0, 0, 0, 0.3));\n",
              "      fill: #FFFFFF;\n",
              "    }\n",
              "  </style>\n",
              "\n",
              "      <script>\n",
              "        const buttonEl =\n",
              "          document.querySelector('#df-55dfc2d2-1768-4c73-a6e8-fa4d062ecf46 button.colab-df-convert');\n",
              "        buttonEl.style.display =\n",
              "          google.colab.kernel.accessAllowed ? 'block' : 'none';\n",
              "\n",
              "        async function convertToInteractive(key) {\n",
              "          const element = document.querySelector('#df-55dfc2d2-1768-4c73-a6e8-fa4d062ecf46');\n",
              "          const dataTable =\n",
              "            await google.colab.kernel.invokeFunction('convertToInteractive',\n",
              "                                                     [key], {});\n",
              "          if (!dataTable) return;\n",
              "\n",
              "          const docLinkHtml = 'Like what you see? Visit the ' +\n",
              "            '<a target=\"_blank\" href=https://colab.research.google.com/notebooks/data_table.ipynb>data table notebook</a>'\n",
              "            + ' to learn more about interactive tables.';\n",
              "          element.innerHTML = '';\n",
              "          dataTable['output_type'] = 'display_data';\n",
              "          await google.colab.output.renderOutput(dataTable, element);\n",
              "          const docLink = document.createElement('div');\n",
              "          docLink.innerHTML = docLinkHtml;\n",
              "          element.appendChild(docLink);\n",
              "        }\n",
              "      </script>\n",
              "    </div>\n",
              "  </div>\n",
              "  "
            ]
          },
          "metadata": {},
          "execution_count": 10
        }
      ]
    },
    {
      "cell_type": "code",
      "source": [
        "summaryDF.to_pickle(\"/content/drive/MyDrive/UCalgary/Thesis/CPA Data/Visualizations/Units/UnitsSummaryDF.pkl\")"
      ],
      "metadata": {
        "id": "RWeO-_syGH-l"
      },
      "execution_count": 11,
      "outputs": []
    }
  ]
}